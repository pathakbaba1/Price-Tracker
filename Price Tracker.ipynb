{
 "cells": [
  {
   "cell_type": "code",
   "execution_count": 14,
   "metadata": {},
   "outputs": [],
   "source": [
    "from urllib.request import urlopen as uReq"
   ]
  },
  {
   "cell_type": "code",
   "execution_count": 15,
   "metadata": {},
   "outputs": [],
   "source": [
    "from bs4 import BeautifulSoup as soup"
   ]
  },
  {
   "cell_type": "code",
   "execution_count": 16,
   "metadata": {},
   "outputs": [],
   "source": [
    "# Please enter the url of the webpage of your product.\n",
    "my_url = 'https://www.xyz.com/'"
   ]
  },
  {
   "cell_type": "code",
   "execution_count": 17,
   "metadata": {},
   "outputs": [],
   "source": [
    "#Enter your desired price.\n",
    "desired_price = 2000"
   ]
  },
  {
   "cell_type": "code",
   "execution_count": 18,
   "metadata": {},
   "outputs": [],
   "source": [
    "# Enter the email id on which you want to\n",
    "# send the notification.\n",
    "my_email = 'xyz@gmail.com'"
   ]
  },
  {
   "cell_type": "code",
   "execution_count": 19,
   "metadata": {},
   "outputs": [],
   "source": [
    "def getPrice():\n",
    "    uClient = uReq(my_url)\n",
    "    page_html = uClient.read()\n",
    "    uClient.close()\n",
    "    page_soup = soup(page_html, \"html.parser\")\n",
    "    price = page_soup.find(id = \"priceblock_ourprice\").get_text()\n",
    "    print(price)\n",
    "    price = price[2:7].replace(\",\", \"\")\n",
    "    return price"
   ]
  },
  {
   "cell_type": "code",
   "execution_count": 20,
   "metadata": {},
   "outputs": [],
   "source": [
    "def getDifference():\n",
    "    curr_price = int(getPrice())\n",
    "    if curr_price <= desired_price:\n",
    "        sendMail()\n",
    "        print(\"Mail Sent....\")\n",
    "        return 0\n",
    "    else:\n",
    "        print(\"Product is still expensive by {} so wait for some more time.\".format(curr_price-desired_price))\n",
    "        return 1;"
   ]
  },
  {
   "cell_type": "code",
   "execution_count": 21,
   "metadata": {},
   "outputs": [],
   "source": [
    "from email.mime.multipart import MIMEMultipart"
   ]
  },
  {
   "cell_type": "code",
   "execution_count": 22,
   "metadata": {},
   "outputs": [],
   "source": [
    "from email.mime.text import MIMEText"
   ]
  },
  {
   "cell_type": "code",
   "execution_count": 23,
   "metadata": {},
   "outputs": [],
   "source": [
    "import smtplib"
   ]
  },
  {
   "cell_type": "code",
   "execution_count": 24,
   "metadata": {},
   "outputs": [],
   "source": [
    "def sendMail():\n",
    "    message = MIMEMultipart()\n",
    "    message[\"from\"] = \"Abhijeet Pathak\"\n",
    "    message[\"to\"] = my_email\n",
    "    message[\"subject\"] = \"Skull Candy Uproar Price Drop\"\n",
    "    message.attach(MIMEText(\"The SkullCandy Uproar price has been dropped. Go and check now: \\n\\n {}\".format(my_url)))\n",
    "    with smtplib.SMTP(host = \"smtp.gmail.com\", port = 587) as smtp:\n",
    "        smtp.ehlo()\n",
    "        smtp.starttls()\n",
    "        smtp.login(\"xyz.com\", \"*****\")\n",
    "        smtp.send_message(message)\n",
    "        print(\"Mail Sent...\")"
   ]
  },
  {
   "cell_type": "code",
   "execution_count": 25,
   "metadata": {},
   "outputs": [],
   "source": [
    "import time"
   ]
  },
  {
   "cell_type": "code",
   "execution_count": null,
   "metadata": {},
   "outputs": [],
   "source": [
    "if __name__ == \"__main__\":\n",
    "    while True:\n",
    "        temp = getDifference()\n",
    "        if temp == 0:\n",
    "            break\n",
    "        time.sleep(2)"
   ]
  }
 ],
 "metadata": {
  "kernelspec": {
   "display_name": "Python 3",
   "language": "python",
   "name": "python3"
  },
  "language_info": {
   "codemirror_mode": {
    "name": "ipython",
    "version": 3
   },
   "file_extension": ".py",
   "mimetype": "text/x-python",
   "name": "python",
   "nbconvert_exporter": "python",
   "pygments_lexer": "ipython3",
   "version": "3.8.5"
  }
 },
 "nbformat": 4,
 "nbformat_minor": 4
}
